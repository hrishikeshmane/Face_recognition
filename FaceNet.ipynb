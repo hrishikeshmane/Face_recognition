{
  "nbformat": 4,
  "nbformat_minor": 0,
  "metadata": {
    "colab": {
      "name": "FaceNet.ipynb",
      "version": "0.3.2",
      "provenance": [],
      "include_colab_link": true
    },
    "kernelspec": {
      "name": "python3",
      "display_name": "Python 3"
    },
    "accelerator": "GPU"
  },
  "cells": [
    {
      "cell_type": "markdown",
      "metadata": {
        "id": "view-in-github",
        "colab_type": "text"
      },
      "source": [
        "<a href=\"https://colab.research.google.com/github/hrishikeshmane/Face_recognition/blob/master/FaceNet.ipynb\" target=\"_parent\"><img src=\"https://colab.research.google.com/assets/colab-badge.svg\" alt=\"Open In Colab\"/></a>"
      ]
    },
    {
      "cell_type": "code",
      "metadata": {
        "id": "mf3l8RQhTloW",
        "colab_type": "code",
        "outputId": "9da6a0f7-b53c-488b-cae0-c9fe94b012d9",
        "colab": {
          "base_uri": "https://localhost:8080/",
          "height": 121
        }
      },
      "source": [
        "from google.colab import drive\n",
        "drive.mount('/content/drive')"
      ],
      "execution_count": 1,
      "outputs": [
        {
          "output_type": "stream",
          "text": [
            "Go to this URL in a browser: https://accounts.google.com/o/oauth2/auth?client_id=947318989803-6bn6qk8qdgf4n4g3pfee6491hc0brc4i.apps.googleusercontent.com&redirect_uri=urn%3Aietf%3Awg%3Aoauth%3A2.0%3Aoob&scope=email%20https%3A%2F%2Fwww.googleapis.com%2Fauth%2Fdocs.test%20https%3A%2F%2Fwww.googleapis.com%2Fauth%2Fdrive%20https%3A%2F%2Fwww.googleapis.com%2Fauth%2Fdrive.photos.readonly%20https%3A%2F%2Fwww.googleapis.com%2Fauth%2Fpeopleapi.readonly&response_type=code\n",
            "\n",
            "Enter your authorization code:\n",
            "··········\n",
            "Mounted at /content/drive\n"
          ],
          "name": "stdout"
        }
      ]
    },
    {
      "cell_type": "code",
      "metadata": {
        "id": "w8iTdHRk8LPf",
        "colab_type": "code",
        "colab": {
          "base_uri": "https://localhost:8080/",
          "height": 524
        },
        "outputId": "6c7a3d91-6630-4533-ae21-96d3d93455a9"
      },
      "source": [
        "!pip install imgaug==0.2.5"
      ],
      "execution_count": 6,
      "outputs": [
        {
          "output_type": "stream",
          "text": [
            "Collecting imgaug==0.2.5\n",
            "\u001b[?25l  Downloading https://files.pythonhosted.org/packages/d2/60/a06a48d85a7e9062f5870347a3e3e953da30b37928d43b380c949bca458a/imgaug-0.2.5.tar.gz (562kB)\n",
            "\r\u001b[K     |▋                               | 10kB 13.9MB/s eta 0:00:01\r\u001b[K     |█▏                              | 20kB 4.3MB/s eta 0:00:01\r\u001b[K     |█▊                              | 30kB 6.1MB/s eta 0:00:01\r\u001b[K     |██▎                             | 40kB 3.9MB/s eta 0:00:01\r\u001b[K     |███                             | 51kB 4.8MB/s eta 0:00:01\r\u001b[K     |███▌                            | 61kB 5.7MB/s eta 0:00:01\r\u001b[K     |████                            | 71kB 6.5MB/s eta 0:00:01\r\u001b[K     |████▋                           | 81kB 7.2MB/s eta 0:00:01\r\u001b[K     |█████▎                          | 92kB 8.0MB/s eta 0:00:01\r\u001b[K     |█████▉                          | 102kB 6.4MB/s eta 0:00:01\r\u001b[K     |██████▍                         | 112kB 6.4MB/s eta 0:00:01\r\u001b[K     |███████                         | 122kB 6.4MB/s eta 0:00:01\r\u001b[K     |███████▋                        | 133kB 6.4MB/s eta 0:00:01\r\u001b[K     |████████▏                       | 143kB 6.4MB/s eta 0:00:01\r\u001b[K     |████████▊                       | 153kB 6.4MB/s eta 0:00:01\r\u001b[K     |█████████▎                      | 163kB 6.4MB/s eta 0:00:01\r\u001b[K     |██████████                      | 174kB 6.4MB/s eta 0:00:01\r\u001b[K     |██████████▌                     | 184kB 6.4MB/s eta 0:00:01\r\u001b[K     |███████████                     | 194kB 6.4MB/s eta 0:00:01\r\u001b[K     |███████████▋                    | 204kB 6.4MB/s eta 0:00:01\r\u001b[K     |████████████▎                   | 215kB 6.4MB/s eta 0:00:01\r\u001b[K     |████████████▉                   | 225kB 6.4MB/s eta 0:00:01\r\u001b[K     |█████████████▍                  | 235kB 6.4MB/s eta 0:00:01\r\u001b[K     |██████████████                  | 245kB 6.4MB/s eta 0:00:01\r\u001b[K     |██████████████▋                 | 256kB 6.4MB/s eta 0:00:01\r\u001b[K     |███████████████▏                | 266kB 6.4MB/s eta 0:00:01\r\u001b[K     |███████████████▊                | 276kB 6.4MB/s eta 0:00:01\r\u001b[K     |████████████████▎               | 286kB 6.4MB/s eta 0:00:01\r\u001b[K     |████████████████▉               | 296kB 6.4MB/s eta 0:00:01\r\u001b[K     |█████████████████▌              | 307kB 6.4MB/s eta 0:00:01\r\u001b[K     |██████████████████              | 317kB 6.4MB/s eta 0:00:01\r\u001b[K     |██████████████████▋             | 327kB 6.4MB/s eta 0:00:01\r\u001b[K     |███████████████████▏            | 337kB 6.4MB/s eta 0:00:01\r\u001b[K     |███████████████████▉            | 348kB 6.4MB/s eta 0:00:01\r\u001b[K     |████████████████████▍           | 358kB 6.4MB/s eta 0:00:01\r\u001b[K     |█████████████████████           | 368kB 6.4MB/s eta 0:00:01\r\u001b[K     |█████████████████████▌          | 378kB 6.4MB/s eta 0:00:01\r\u001b[K     |██████████████████████▏         | 389kB 6.4MB/s eta 0:00:01\r\u001b[K     |██████████████████████▊         | 399kB 6.4MB/s eta 0:00:01\r\u001b[K     |███████████████████████▎        | 409kB 6.4MB/s eta 0:00:01\r\u001b[K     |███████████████████████▉        | 419kB 6.4MB/s eta 0:00:01\r\u001b[K     |████████████████████████▌       | 430kB 6.4MB/s eta 0:00:01\r\u001b[K     |█████████████████████████       | 440kB 6.4MB/s eta 0:00:01\r\u001b[K     |█████████████████████████▋      | 450kB 6.4MB/s eta 0:00:01\r\u001b[K     |██████████████████████████▏     | 460kB 6.4MB/s eta 0:00:01\r\u001b[K     |██████████████████████████▉     | 471kB 6.4MB/s eta 0:00:01\r\u001b[K     |███████████████████████████▍    | 481kB 6.4MB/s eta 0:00:01\r\u001b[K     |████████████████████████████    | 491kB 6.4MB/s eta 0:00:01\r\u001b[K     |████████████████████████████▌   | 501kB 6.4MB/s eta 0:00:01\r\u001b[K     |█████████████████████████████▏  | 512kB 6.4MB/s eta 0:00:01\r\u001b[K     |█████████████████████████████▊  | 522kB 6.4MB/s eta 0:00:01\r\u001b[K     |██████████████████████████████▎ | 532kB 6.4MB/s eta 0:00:01\r\u001b[K     |██████████████████████████████▉ | 542kB 6.4MB/s eta 0:00:01\r\u001b[K     |███████████████████████████████▍| 552kB 6.4MB/s eta 0:00:01\r\u001b[K     |████████████████████████████████| 563kB 6.4MB/s \n",
            "\u001b[?25hRequirement already satisfied: scipy in /usr/local/lib/python3.6/dist-packages (from imgaug==0.2.5) (1.1.0)\n",
            "Requirement already satisfied: scikit-image>=0.11.0 in /usr/local/lib/python3.6/dist-packages (from imgaug==0.2.5) (0.15.0)\n",
            "Requirement already satisfied: numpy>=1.7.0 in /usr/local/lib/python3.6/dist-packages (from imgaug==0.2.5) (1.16.4)\n",
            "Requirement already satisfied: six in /usr/local/lib/python3.6/dist-packages (from imgaug==0.2.5) (1.12.0)\n",
            "Requirement already satisfied: imageio>=2.0.1 in /usr/local/lib/python3.6/dist-packages (from scikit-image>=0.11.0->imgaug==0.2.5) (2.4.1)\n",
            "Requirement already satisfied: PyWavelets>=0.4.0 in /usr/local/lib/python3.6/dist-packages (from scikit-image>=0.11.0->imgaug==0.2.5) (1.0.3)\n",
            "Requirement already satisfied: matplotlib!=3.0.0,>=2.0.0 in /usr/local/lib/python3.6/dist-packages (from scikit-image>=0.11.0->imgaug==0.2.5) (3.0.3)\n",
            "Requirement already satisfied: networkx>=2.0 in /usr/local/lib/python3.6/dist-packages (from scikit-image>=0.11.0->imgaug==0.2.5) (2.3)\n",
            "Requirement already satisfied: pillow>=4.3.0 in /usr/local/lib/python3.6/dist-packages (from scikit-image>=0.11.0->imgaug==0.2.5) (4.3.0)\n",
            "Requirement already satisfied: kiwisolver>=1.0.1 in /usr/local/lib/python3.6/dist-packages (from matplotlib!=3.0.0,>=2.0.0->scikit-image>=0.11.0->imgaug==0.2.5) (1.1.0)\n",
            "Requirement already satisfied: pyparsing!=2.0.4,!=2.1.2,!=2.1.6,>=2.0.1 in /usr/local/lib/python3.6/dist-packages (from matplotlib!=3.0.0,>=2.0.0->scikit-image>=0.11.0->imgaug==0.2.5) (2.4.2)\n",
            "Requirement already satisfied: cycler>=0.10 in /usr/local/lib/python3.6/dist-packages (from matplotlib!=3.0.0,>=2.0.0->scikit-image>=0.11.0->imgaug==0.2.5) (0.10.0)\n",
            "Requirement already satisfied: python-dateutil>=2.1 in /usr/local/lib/python3.6/dist-packages (from matplotlib!=3.0.0,>=2.0.0->scikit-image>=0.11.0->imgaug==0.2.5) (2.5.3)\n",
            "Requirement already satisfied: decorator>=4.3.0 in /usr/local/lib/python3.6/dist-packages (from networkx>=2.0->scikit-image>=0.11.0->imgaug==0.2.5) (4.4.0)\n",
            "Requirement already satisfied: olefile in /usr/local/lib/python3.6/dist-packages (from pillow>=4.3.0->scikit-image>=0.11.0->imgaug==0.2.5) (0.46)\n",
            "Requirement already satisfied: setuptools in /usr/local/lib/python3.6/dist-packages (from kiwisolver>=1.0.1->matplotlib!=3.0.0,>=2.0.0->scikit-image>=0.11.0->imgaug==0.2.5) (41.2.0)\n",
            "Building wheels for collected packages: imgaug\n",
            "  Building wheel for imgaug (setup.py) ... \u001b[?25l\u001b[?25hdone\n",
            "  Created wheel for imgaug: filename=imgaug-0.2.5-cp36-none-any.whl size=561439 sha256=9eadc2a7d61dddc38a70ba8b969811eb277d5a8a8b91d7ad8a6fb241c936fca5\n",
            "  Stored in directory: /root/.cache/pip/wheels/31/48/c8/ca3345e8582a078de94243996e148377ef66fdb845557bae0b\n",
            "Successfully built imgaug\n",
            "Installing collected packages: imgaug\n",
            "  Found existing installation: imgaug 0.2.9\n",
            "    Uninstalling imgaug-0.2.9:\n",
            "      Successfully uninstalled imgaug-0.2.9\n",
            "Successfully installed imgaug-0.2.5\n"
          ],
          "name": "stdout"
        }
      ]
    },
    {
      "cell_type": "code",
      "metadata": {
        "id": "dmAEyRuq8By7",
        "colab_type": "code",
        "colab": {
          "base_uri": "https://localhost:8080/",
          "height": 50
        },
        "outputId": "7eed68e0-00da-4d2d-f30c-0860c23017f7"
      },
      "source": [
        "!pip install scipy==1.1.0"
      ],
      "execution_count": 7,
      "outputs": [
        {
          "output_type": "stream",
          "text": [
            "Requirement already satisfied: scipy==1.1.0 in /usr/local/lib/python3.6/dist-packages (1.1.0)\n",
            "Requirement already satisfied: numpy>=1.8.2 in /usr/local/lib/python3.6/dist-packages (from scipy==1.1.0) (1.16.4)\n"
          ],
          "name": "stdout"
        }
      ]
    },
    {
      "cell_type": "code",
      "metadata": {
        "id": "PqfdAB5FewQj",
        "colab_type": "code",
        "outputId": "33fbf5ba-8e32-467d-a6cd-0210842dbed7",
        "colab": {
          "base_uri": "https://localhost:8080/",
          "height": 101
        }
      },
      "source": [
        "!git clone https://github.com/davidsandberg/facenet"
      ],
      "execution_count": 2,
      "outputs": [
        {
          "output_type": "stream",
          "text": [
            "Cloning into 'facenet'...\n",
            "remote: Enumerating objects: 3146, done.\u001b[K\n",
            "Receiving objects:   0% (1/3146)   \rReceiving objects:   1% (32/3146)   \rReceiving objects:   2% (63/3146)   \rReceiving objects:   3% (95/3146)   \rReceiving objects:   4% (126/3146)   \rReceiving objects:   5% (158/3146)   \rReceiving objects:   6% (189/3146)   \rReceiving objects:   7% (221/3146)   \rReceiving objects:   8% (252/3146)   \rReceiving objects:   9% (284/3146)   \rReceiving objects:  10% (315/3146)   \rReceiving objects:  11% (347/3146)   \rReceiving objects:  12% (378/3146)   \rReceiving objects:  13% (409/3146)   \rReceiving objects:  14% (441/3146)   \rReceiving objects:  15% (472/3146)   \rReceiving objects:  16% (504/3146)   \rReceiving objects:  17% (535/3146)   \rReceiving objects:  18% (567/3146)   \rReceiving objects:  19% (598/3146)   \rReceiving objects:  20% (630/3146)   \rReceiving objects:  21% (661/3146), 1.69 MiB | 3.18 MiB/s   \rReceiving objects:  22% (693/3146), 1.69 MiB | 3.18 MiB/s   \rReceiving objects:  23% (724/3146), 1.69 MiB | 3.18 MiB/s   \rReceiving objects:  24% (756/3146), 1.69 MiB | 3.18 MiB/s   \rReceiving objects:  25% (787/3146), 1.69 MiB | 3.18 MiB/s   \rReceiving objects:  26% (818/3146), 1.69 MiB | 3.18 MiB/s   \rReceiving objects:  27% (850/3146), 1.69 MiB | 3.18 MiB/s   \rReceiving objects:  28% (881/3146), 1.69 MiB | 3.18 MiB/s   \rReceiving objects:  29% (913/3146), 1.69 MiB | 3.18 MiB/s   \rReceiving objects:  30% (944/3146), 1.69 MiB | 3.18 MiB/s   \rReceiving objects:  31% (976/3146), 1.69 MiB | 3.18 MiB/s   \rReceiving objects:  32% (1007/3146), 1.69 MiB | 3.18 MiB/s   \rReceiving objects:  33% (1039/3146), 1.69 MiB | 3.18 MiB/s   \rReceiving objects:  34% (1070/3146), 1.69 MiB | 3.18 MiB/s   \rReceiving objects:  35% (1102/3146), 1.69 MiB | 3.18 MiB/s   \rReceiving objects:  36% (1133/3146), 1.69 MiB | 3.18 MiB/s   \rReceiving objects:  37% (1165/3146), 1.69 MiB | 3.18 MiB/s   \rReceiving objects:  38% (1196/3146), 1.69 MiB | 3.18 MiB/s   \rReceiving objects:  39% (1227/3146), 1.69 MiB | 3.18 MiB/s   \rReceiving objects:  40% (1259/3146), 1.69 MiB | 3.18 MiB/s   \rReceiving objects:  41% (1290/3146), 1.69 MiB | 3.18 MiB/s   \rReceiving objects:  42% (1322/3146), 1.69 MiB | 3.18 MiB/s   \rReceiving objects:  43% (1353/3146), 1.69 MiB | 3.18 MiB/s   \rReceiving objects:  44% (1385/3146), 1.69 MiB | 3.18 MiB/s   \rReceiving objects:  45% (1416/3146), 1.69 MiB | 3.18 MiB/s   \rReceiving objects:  46% (1448/3146), 1.69 MiB | 3.18 MiB/s   \rReceiving objects:  47% (1479/3146), 1.69 MiB | 3.18 MiB/s   \rReceiving objects:  48% (1511/3146), 1.69 MiB | 3.18 MiB/s   \rReceiving objects:  49% (1542/3146), 1.69 MiB | 3.18 MiB/s   \rReceiving objects:  50% (1573/3146), 1.69 MiB | 3.18 MiB/s   \rReceiving objects:  51% (1605/3146), 1.69 MiB | 3.18 MiB/s   \rReceiving objects:  52% (1636/3146), 1.69 MiB | 3.18 MiB/s   \rReceiving objects:  53% (1668/3146), 1.69 MiB | 3.18 MiB/s   \rReceiving objects:  54% (1699/3146), 1.69 MiB | 3.18 MiB/s   \rReceiving objects:  55% (1731/3146), 1.69 MiB | 3.18 MiB/s   \rReceiving objects:  56% (1762/3146), 1.69 MiB | 3.18 MiB/s   \rReceiving objects:  57% (1794/3146), 1.69 MiB | 3.18 MiB/s   \rReceiving objects:  58% (1825/3146), 1.69 MiB | 3.18 MiB/s   \rReceiving objects:  59% (1857/3146), 1.69 MiB | 3.18 MiB/s   \rReceiving objects:  60% (1888/3146), 1.69 MiB | 3.18 MiB/s   \rReceiving objects:  61% (1920/3146), 1.69 MiB | 3.18 MiB/s   \rReceiving objects:  62% (1951/3146), 1.69 MiB | 3.18 MiB/s   \rReceiving objects:  63% (1982/3146), 1.69 MiB | 3.18 MiB/s   \rReceiving objects:  64% (2014/3146), 1.69 MiB | 3.18 MiB/s   \rReceiving objects:  65% (2045/3146), 1.69 MiB | 3.18 MiB/s   \rReceiving objects:  66% (2077/3146), 1.69 MiB | 3.18 MiB/s   \rReceiving objects:  67% (2108/3146), 1.69 MiB | 3.18 MiB/s   \rReceiving objects:  68% (2140/3146), 1.69 MiB | 3.18 MiB/s   \rReceiving objects:  69% (2171/3146), 1.69 MiB | 3.18 MiB/s   \rReceiving objects:  70% (2203/3146), 1.69 MiB | 3.18 MiB/s   \rReceiving objects:  71% (2234/3146), 1.69 MiB | 3.18 MiB/s   \rReceiving objects:  72% (2266/3146), 1.69 MiB | 3.18 MiB/s   \rReceiving objects:  73% (2297/3146), 1.69 MiB | 3.18 MiB/s   \rReceiving objects:  74% (2329/3146), 1.69 MiB | 3.18 MiB/s   \rReceiving objects:  75% (2360/3146), 1.69 MiB | 3.18 MiB/s   \rReceiving objects:  76% (2391/3146), 1.69 MiB | 3.18 MiB/s   \rReceiving objects:  77% (2423/3146), 1.69 MiB | 3.18 MiB/s   \rReceiving objects:  78% (2454/3146), 1.69 MiB | 3.18 MiB/s   \rReceiving objects:  79% (2486/3146), 1.69 MiB | 3.18 MiB/s   \rReceiving objects:  80% (2517/3146), 1.69 MiB | 3.18 MiB/s   \rReceiving objects:  81% (2549/3146), 1.69 MiB | 3.18 MiB/s   \rReceiving objects:  82% (2580/3146), 1.69 MiB | 3.18 MiB/s   \rReceiving objects:  83% (2612/3146), 1.69 MiB | 3.18 MiB/s   \rReceiving objects:  84% (2643/3146), 1.69 MiB | 3.18 MiB/s   \rReceiving objects:  85% (2675/3146), 1.69 MiB | 3.18 MiB/s   \rReceiving objects:  86% (2706/3146), 1.69 MiB | 3.18 MiB/s   \rReceiving objects:  87% (2738/3146), 1.69 MiB | 3.18 MiB/s   \rReceiving objects:  88% (2769/3146), 1.69 MiB | 3.18 MiB/s   \rReceiving objects:  89% (2800/3146), 1.69 MiB | 3.18 MiB/s   \rReceiving objects:  90% (2832/3146), 1.69 MiB | 3.18 MiB/s   \rReceiving objects:  91% (2863/3146), 1.69 MiB | 3.18 MiB/s   \rReceiving objects:  92% (2895/3146), 1.69 MiB | 3.18 MiB/s   \rReceiving objects:  93% (2926/3146), 1.69 MiB | 3.18 MiB/s   \rremote: Total 3146 (delta 0), reused 0 (delta 0), pack-reused 3146\u001b[K\n",
            "Receiving objects: 100% (3146/3146), 2.94 MiB | 4.94 MiB/s, done.\n",
            "Resolving deltas: 100% (2230/2230), done.\n"
          ],
          "name": "stdout"
        }
      ]
    },
    {
      "cell_type": "markdown",
      "metadata": {
        "id": "rirkP-CwJf5u",
        "colab_type": "text"
      },
      "source": [
        "### Train on personal dataset\n",
        "\n",
        "30 images per person are more than enough"
      ]
    },
    {
      "cell_type": "code",
      "metadata": {
        "id": "LwcYrsA-e6T-",
        "colab_type": "code",
        "outputId": "e570475d-07bb-4750-9aa4-4e695f9d8937",
        "colab": {
          "base_uri": "https://localhost:8080/",
          "height": 1000
        }
      },
      "source": [
        "!python /content/facenet/src/classifier.py TRAIN \"/content/drive/My Drive/ColabFolders/New_dataset\" \"/content/drive/My Drive/ColabFolders/20180402-114759/20180402-114759.pb\" \"/content/my_classifier.pkl\" --batch_size 1000"
      ],
      "execution_count": 8,
      "outputs": [
        {
          "output_type": "stream",
          "text": [
            "/content/facenet/src/classifier.py:59: SyntaxWarning: assertion is always true, perhaps remove parentheses?\n",
            "  assert(len(cls.image_paths)>0, 'There must be at least one image for each class in the dataset')\n",
            "WARNING: Logging before flag parsing goes to stderr.\n",
            "W0904 15:52:01.056054 140259162593152 deprecation_wrapper.py:119] From /content/facenet/src/classifier.py:43: The name tf.Session is deprecated. Please use tf.compat.v1.Session instead.\n",
            "\n",
            "2019-09-04 15:52:01.057454: I tensorflow/stream_executor/platform/default/dso_loader.cc:42] Successfully opened dynamic library libcuda.so.1\n",
            "2019-09-04 15:52:01.075298: I tensorflow/stream_executor/cuda/cuda_gpu_executor.cc:1005] successful NUMA node read from SysFS had negative value (-1), but there must be at least one NUMA node, so returning NUMA node zero\n",
            "2019-09-04 15:52:01.076066: I tensorflow/core/common_runtime/gpu/gpu_device.cc:1640] Found device 0 with properties: \n",
            "name: Tesla K80 major: 3 minor: 7 memoryClockRate(GHz): 0.8235\n",
            "pciBusID: 0000:00:04.0\n",
            "2019-09-04 15:52:01.076366: I tensorflow/stream_executor/platform/default/dso_loader.cc:42] Successfully opened dynamic library libcudart.so.10.0\n",
            "2019-09-04 15:52:01.077682: I tensorflow/stream_executor/platform/default/dso_loader.cc:42] Successfully opened dynamic library libcublas.so.10.0\n",
            "2019-09-04 15:52:01.078974: I tensorflow/stream_executor/platform/default/dso_loader.cc:42] Successfully opened dynamic library libcufft.so.10.0\n",
            "2019-09-04 15:52:01.079303: I tensorflow/stream_executor/platform/default/dso_loader.cc:42] Successfully opened dynamic library libcurand.so.10.0\n",
            "2019-09-04 15:52:01.081243: I tensorflow/stream_executor/platform/default/dso_loader.cc:42] Successfully opened dynamic library libcusolver.so.10.0\n",
            "2019-09-04 15:52:01.082482: I tensorflow/stream_executor/platform/default/dso_loader.cc:42] Successfully opened dynamic library libcusparse.so.10.0\n",
            "2019-09-04 15:52:01.086481: I tensorflow/stream_executor/platform/default/dso_loader.cc:42] Successfully opened dynamic library libcudnn.so.7\n",
            "2019-09-04 15:52:01.086629: I tensorflow/stream_executor/cuda/cuda_gpu_executor.cc:1005] successful NUMA node read from SysFS had negative value (-1), but there must be at least one NUMA node, so returning NUMA node zero\n",
            "2019-09-04 15:52:01.087435: I tensorflow/stream_executor/cuda/cuda_gpu_executor.cc:1005] successful NUMA node read from SysFS had negative value (-1), but there must be at least one NUMA node, so returning NUMA node zero\n",
            "2019-09-04 15:52:01.088101: I tensorflow/core/common_runtime/gpu/gpu_device.cc:1763] Adding visible gpu devices: 0\n",
            "2019-09-04 15:52:01.093624: I tensorflow/core/platform/profile_utils/cpu_utils.cc:94] CPU Frequency: 2300000000 Hz\n",
            "2019-09-04 15:52:01.093884: I tensorflow/compiler/xla/service/service.cc:168] XLA service 0x1416a00 executing computations on platform Host. Devices:\n",
            "2019-09-04 15:52:01.093919: I tensorflow/compiler/xla/service/service.cc:175]   StreamExecutor device (0): <undefined>, <undefined>\n",
            "2019-09-04 15:52:01.148464: I tensorflow/stream_executor/cuda/cuda_gpu_executor.cc:1005] successful NUMA node read from SysFS had negative value (-1), but there must be at least one NUMA node, so returning NUMA node zero\n",
            "2019-09-04 15:52:01.149273: I tensorflow/compiler/xla/service/service.cc:168] XLA service 0x1416bc0 executing computations on platform CUDA. Devices:\n",
            "2019-09-04 15:52:01.149301: I tensorflow/compiler/xla/service/service.cc:175]   StreamExecutor device (0): Tesla K80, Compute Capability 3.7\n",
            "2019-09-04 15:52:01.149499: I tensorflow/stream_executor/cuda/cuda_gpu_executor.cc:1005] successful NUMA node read from SysFS had negative value (-1), but there must be at least one NUMA node, so returning NUMA node zero\n",
            "2019-09-04 15:52:01.150155: I tensorflow/core/common_runtime/gpu/gpu_device.cc:1640] Found device 0 with properties: \n",
            "name: Tesla K80 major: 3 minor: 7 memoryClockRate(GHz): 0.8235\n",
            "pciBusID: 0000:00:04.0\n",
            "2019-09-04 15:52:01.150218: I tensorflow/stream_executor/platform/default/dso_loader.cc:42] Successfully opened dynamic library libcudart.so.10.0\n",
            "2019-09-04 15:52:01.150243: I tensorflow/stream_executor/platform/default/dso_loader.cc:42] Successfully opened dynamic library libcublas.so.10.0\n",
            "2019-09-04 15:52:01.150263: I tensorflow/stream_executor/platform/default/dso_loader.cc:42] Successfully opened dynamic library libcufft.so.10.0\n",
            "2019-09-04 15:52:01.150284: I tensorflow/stream_executor/platform/default/dso_loader.cc:42] Successfully opened dynamic library libcurand.so.10.0\n",
            "2019-09-04 15:52:01.150304: I tensorflow/stream_executor/platform/default/dso_loader.cc:42] Successfully opened dynamic library libcusolver.so.10.0\n",
            "2019-09-04 15:52:01.150324: I tensorflow/stream_executor/platform/default/dso_loader.cc:42] Successfully opened dynamic library libcusparse.so.10.0\n",
            "2019-09-04 15:52:01.150346: I tensorflow/stream_executor/platform/default/dso_loader.cc:42] Successfully opened dynamic library libcudnn.so.7\n",
            "2019-09-04 15:52:01.150444: I tensorflow/stream_executor/cuda/cuda_gpu_executor.cc:1005] successful NUMA node read from SysFS had negative value (-1), but there must be at least one NUMA node, so returning NUMA node zero\n",
            "2019-09-04 15:52:01.151169: I tensorflow/stream_executor/cuda/cuda_gpu_executor.cc:1005] successful NUMA node read from SysFS had negative value (-1), but there must be at least one NUMA node, so returning NUMA node zero\n",
            "2019-09-04 15:52:01.151837: I tensorflow/core/common_runtime/gpu/gpu_device.cc:1763] Adding visible gpu devices: 0\n",
            "2019-09-04 15:52:01.151892: I tensorflow/stream_executor/platform/default/dso_loader.cc:42] Successfully opened dynamic library libcudart.so.10.0\n",
            "2019-09-04 15:52:01.153312: I tensorflow/core/common_runtime/gpu/gpu_device.cc:1181] Device interconnect StreamExecutor with strength 1 edge matrix:\n",
            "2019-09-04 15:52:01.153342: I tensorflow/core/common_runtime/gpu/gpu_device.cc:1187]      0 \n",
            "2019-09-04 15:52:01.153354: I tensorflow/core/common_runtime/gpu/gpu_device.cc:1200] 0:   N \n",
            "2019-09-04 15:52:01.153502: I tensorflow/stream_executor/cuda/cuda_gpu_executor.cc:1005] successful NUMA node read from SysFS had negative value (-1), but there must be at least one NUMA node, so returning NUMA node zero\n",
            "2019-09-04 15:52:01.154230: I tensorflow/stream_executor/cuda/cuda_gpu_executor.cc:1005] successful NUMA node read from SysFS had negative value (-1), but there must be at least one NUMA node, so returning NUMA node zero\n",
            "2019-09-04 15:52:01.154897: W tensorflow/core/common_runtime/gpu/gpu_bfc_allocator.cc:40] Overriding allow_growth setting because the TF_FORCE_GPU_ALLOW_GROWTH environment variable is set. Original config value was 0.\n",
            "2019-09-04 15:52:01.154946: I tensorflow/core/common_runtime/gpu/gpu_device.cc:1326] Created TensorFlow device (/job:localhost/replica:0/task:0/device:GPU:0 with 10805 MB memory) -> physical GPU (device: 0, name: Tesla K80, pci bus id: 0000:00:04.0, compute capability: 3.7)\n",
            "Number of classes: 2\n",
            "Number of images: 399\n",
            "Loading feature extraction model\n",
            "Model filename: /content/drive/My Drive/ColabFolders/20180402-114759/20180402-114759.pb\n",
            "W0904 15:52:01.161705 140259162593152 deprecation.py:323] From /content/facenet/src/facenet.py:370: FastGFile.__init__ (from tensorflow.python.platform.gfile) is deprecated and will be removed in a future version.\n",
            "Instructions for updating:\n",
            "Use tf.gfile.GFile.\n",
            "W0904 15:52:01.161983 140259162593152 deprecation_wrapper.py:119] From /content/facenet/src/facenet.py:371: The name tf.GraphDef is deprecated. Please use tf.compat.v1.GraphDef instead.\n",
            "\n",
            "W0904 15:52:02.625925 140259162593152 deprecation_wrapper.py:119] From /content/facenet/src/classifier.py:72: The name tf.get_default_graph is deprecated. Please use tf.compat.v1.get_default_graph instead.\n",
            "\n",
            "Calculating features for images\n",
            "2019-09-04 15:55:44.254709: I tensorflow/stream_executor/platform/default/dso_loader.cc:42] Successfully opened dynamic library libcublas.so.10.0\n",
            "2019-09-04 15:55:45.036868: I tensorflow/stream_executor/platform/default/dso_loader.cc:42] Successfully opened dynamic library libcudnn.so.7\n",
            "Training classifier\n",
            "Saved classifier model to file \"/content/my_classifier.pkl\"\n"
          ],
          "name": "stdout"
        }
      ]
    },
    {
      "cell_type": "code",
      "metadata": {
        "id": "42Pr46MPuN19",
        "colab_type": "code",
        "colab": {
          "base_uri": "https://localhost:8080/",
          "height": 1000
        },
        "outputId": "91fd601f-9d29-4335-eb58-0b79d4a14e63"
      },
      "source": [
        "!python /content/facenet/src/classifier.py CLASSIFY \"/content/drive/My Drive/ColabFolders/test_re\" \"/content/drive/My Drive/ColabFolders/20180402-114759/20180402-114759.pb\" \"/content/my_classifier.pkl\" --batch_size 1000"
      ],
      "execution_count": 11,
      "outputs": [
        {
          "output_type": "stream",
          "text": [
            "/content/facenet/src/classifier.py:59: SyntaxWarning: assertion is always true, perhaps remove parentheses?\n",
            "  assert(len(cls.image_paths)>0, 'There must be at least one image for each class in the dataset')\n",
            "WARNING: Logging before flag parsing goes to stderr.\n",
            "W0904 16:08:57.414902 139663773288320 deprecation_wrapper.py:119] From /content/facenet/src/classifier.py:43: The name tf.Session is deprecated. Please use tf.compat.v1.Session instead.\n",
            "\n",
            "2019-09-04 16:08:57.416376: I tensorflow/stream_executor/platform/default/dso_loader.cc:42] Successfully opened dynamic library libcuda.so.1\n",
            "2019-09-04 16:08:57.435299: I tensorflow/stream_executor/cuda/cuda_gpu_executor.cc:1005] successful NUMA node read from SysFS had negative value (-1), but there must be at least one NUMA node, so returning NUMA node zero\n",
            "2019-09-04 16:08:57.436073: I tensorflow/core/common_runtime/gpu/gpu_device.cc:1640] Found device 0 with properties: \n",
            "name: Tesla K80 major: 3 minor: 7 memoryClockRate(GHz): 0.8235\n",
            "pciBusID: 0000:00:04.0\n",
            "2019-09-04 16:08:57.436390: I tensorflow/stream_executor/platform/default/dso_loader.cc:42] Successfully opened dynamic library libcudart.so.10.0\n",
            "2019-09-04 16:08:57.437768: I tensorflow/stream_executor/platform/default/dso_loader.cc:42] Successfully opened dynamic library libcublas.so.10.0\n",
            "2019-09-04 16:08:57.439083: I tensorflow/stream_executor/platform/default/dso_loader.cc:42] Successfully opened dynamic library libcufft.so.10.0\n",
            "2019-09-04 16:08:57.439450: I tensorflow/stream_executor/platform/default/dso_loader.cc:42] Successfully opened dynamic library libcurand.so.10.0\n",
            "2019-09-04 16:08:57.441267: I tensorflow/stream_executor/platform/default/dso_loader.cc:42] Successfully opened dynamic library libcusolver.so.10.0\n",
            "2019-09-04 16:08:57.442569: I tensorflow/stream_executor/platform/default/dso_loader.cc:42] Successfully opened dynamic library libcusparse.so.10.0\n",
            "2019-09-04 16:08:57.446492: I tensorflow/stream_executor/platform/default/dso_loader.cc:42] Successfully opened dynamic library libcudnn.so.7\n",
            "2019-09-04 16:08:57.446680: I tensorflow/stream_executor/cuda/cuda_gpu_executor.cc:1005] successful NUMA node read from SysFS had negative value (-1), but there must be at least one NUMA node, so returning NUMA node zero\n",
            "2019-09-04 16:08:57.447513: I tensorflow/stream_executor/cuda/cuda_gpu_executor.cc:1005] successful NUMA node read from SysFS had negative value (-1), but there must be at least one NUMA node, so returning NUMA node zero\n",
            "2019-09-04 16:08:57.448195: I tensorflow/core/common_runtime/gpu/gpu_device.cc:1763] Adding visible gpu devices: 0\n",
            "2019-09-04 16:08:57.453987: I tensorflow/core/platform/profile_utils/cpu_utils.cc:94] CPU Frequency: 2300000000 Hz\n",
            "2019-09-04 16:08:57.454224: I tensorflow/compiler/xla/service/service.cc:168] XLA service 0x314ca00 executing computations on platform Host. Devices:\n",
            "2019-09-04 16:08:57.454261: I tensorflow/compiler/xla/service/service.cc:175]   StreamExecutor device (0): <undefined>, <undefined>\n",
            "2019-09-04 16:08:57.510564: I tensorflow/stream_executor/cuda/cuda_gpu_executor.cc:1005] successful NUMA node read from SysFS had negative value (-1), but there must be at least one NUMA node, so returning NUMA node zero\n",
            "2019-09-04 16:08:57.512015: I tensorflow/compiler/xla/service/service.cc:168] XLA service 0x314cbc0 executing computations on platform CUDA. Devices:\n",
            "2019-09-04 16:08:57.512050: I tensorflow/compiler/xla/service/service.cc:175]   StreamExecutor device (0): Tesla K80, Compute Capability 3.7\n",
            "2019-09-04 16:08:57.512248: I tensorflow/stream_executor/cuda/cuda_gpu_executor.cc:1005] successful NUMA node read from SysFS had negative value (-1), but there must be at least one NUMA node, so returning NUMA node zero\n",
            "2019-09-04 16:08:57.512958: I tensorflow/core/common_runtime/gpu/gpu_device.cc:1640] Found device 0 with properties: \n",
            "name: Tesla K80 major: 3 minor: 7 memoryClockRate(GHz): 0.8235\n",
            "pciBusID: 0000:00:04.0\n",
            "2019-09-04 16:08:57.513022: I tensorflow/stream_executor/platform/default/dso_loader.cc:42] Successfully opened dynamic library libcudart.so.10.0\n",
            "2019-09-04 16:08:57.513049: I tensorflow/stream_executor/platform/default/dso_loader.cc:42] Successfully opened dynamic library libcublas.so.10.0\n",
            "2019-09-04 16:08:57.513071: I tensorflow/stream_executor/platform/default/dso_loader.cc:42] Successfully opened dynamic library libcufft.so.10.0\n",
            "2019-09-04 16:08:57.513094: I tensorflow/stream_executor/platform/default/dso_loader.cc:42] Successfully opened dynamic library libcurand.so.10.0\n",
            "2019-09-04 16:08:57.513119: I tensorflow/stream_executor/platform/default/dso_loader.cc:42] Successfully opened dynamic library libcusolver.so.10.0\n",
            "2019-09-04 16:08:57.513140: I tensorflow/stream_executor/platform/default/dso_loader.cc:42] Successfully opened dynamic library libcusparse.so.10.0\n",
            "2019-09-04 16:08:57.513163: I tensorflow/stream_executor/platform/default/dso_loader.cc:42] Successfully opened dynamic library libcudnn.so.7\n",
            "2019-09-04 16:08:57.513251: I tensorflow/stream_executor/cuda/cuda_gpu_executor.cc:1005] successful NUMA node read from SysFS had negative value (-1), but there must be at least one NUMA node, so returning NUMA node zero\n",
            "2019-09-04 16:08:57.514005: I tensorflow/stream_executor/cuda/cuda_gpu_executor.cc:1005] successful NUMA node read from SysFS had negative value (-1), but there must be at least one NUMA node, so returning NUMA node zero\n",
            "2019-09-04 16:08:57.514678: I tensorflow/core/common_runtime/gpu/gpu_device.cc:1763] Adding visible gpu devices: 0\n",
            "2019-09-04 16:08:57.514740: I tensorflow/stream_executor/platform/default/dso_loader.cc:42] Successfully opened dynamic library libcudart.so.10.0\n",
            "2019-09-04 16:08:57.516170: I tensorflow/core/common_runtime/gpu/gpu_device.cc:1181] Device interconnect StreamExecutor with strength 1 edge matrix:\n",
            "2019-09-04 16:08:57.516201: I tensorflow/core/common_runtime/gpu/gpu_device.cc:1187]      0 \n",
            "2019-09-04 16:08:57.516214: I tensorflow/core/common_runtime/gpu/gpu_device.cc:1200] 0:   N \n",
            "2019-09-04 16:08:57.516353: I tensorflow/stream_executor/cuda/cuda_gpu_executor.cc:1005] successful NUMA node read from SysFS had negative value (-1), but there must be at least one NUMA node, so returning NUMA node zero\n",
            "2019-09-04 16:08:57.517136: I tensorflow/stream_executor/cuda/cuda_gpu_executor.cc:1005] successful NUMA node read from SysFS had negative value (-1), but there must be at least one NUMA node, so returning NUMA node zero\n",
            "2019-09-04 16:08:57.517825: W tensorflow/core/common_runtime/gpu/gpu_bfc_allocator.cc:40] Overriding allow_growth setting because the TF_FORCE_GPU_ALLOW_GROWTH environment variable is set. Original config value was 0.\n",
            "2019-09-04 16:08:57.517878: I tensorflow/core/common_runtime/gpu/gpu_device.cc:1326] Created TensorFlow device (/job:localhost/replica:0/task:0/device:GPU:0 with 10805 MB memory) -> physical GPU (device: 0, name: Tesla K80, pci bus id: 0000:00:04.0, compute capability: 3.7)\n",
            "Number of classes: 2\n",
            "Number of images: 40\n",
            "Loading feature extraction model\n",
            "Model filename: /content/drive/My Drive/ColabFolders/20180402-114759/20180402-114759.pb\n",
            "W0904 16:08:57.521950 139663773288320 deprecation.py:323] From /content/facenet/src/facenet.py:370: FastGFile.__init__ (from tensorflow.python.platform.gfile) is deprecated and will be removed in a future version.\n",
            "Instructions for updating:\n",
            "Use tf.gfile.GFile.\n",
            "W0904 16:08:57.522230 139663773288320 deprecation_wrapper.py:119] From /content/facenet/src/facenet.py:371: The name tf.GraphDef is deprecated. Please use tf.compat.v1.GraphDef instead.\n",
            "\n",
            "W0904 16:08:58.995255 139663773288320 deprecation_wrapper.py:119] From /content/facenet/src/classifier.py:72: The name tf.get_default_graph is deprecated. Please use tf.compat.v1.get_default_graph instead.\n",
            "\n",
            "Calculating features for images\n",
            "2019-09-04 16:09:00.879115: I tensorflow/stream_executor/platform/default/dso_loader.cc:42] Successfully opened dynamic library libcublas.so.10.0\n",
            "2019-09-04 16:09:01.158264: I tensorflow/stream_executor/platform/default/dso_loader.cc:42] Successfully opened dynamic library libcudnn.so.7\n",
            "Testing classifier\n",
            "Loaded classifier model from file \"/content/my_classifier.pkl\"\n",
            "   0  hrishi: 0.997\n",
            "   1  hrishi: 0.997\n",
            "   2  hrishi: 0.994\n",
            "   3  hrishi: 0.996\n",
            "   4  hrishi: 0.997\n",
            "   5  hrishi: 0.996\n",
            "   6  hrishi: 0.995\n",
            "   7  hrishi: 0.995\n",
            "   8  hrishi: 0.992\n",
            "   9  hrishi: 0.988\n",
            "  10  hrishi: 0.985\n",
            "  11  hrishi: 0.997\n",
            "  12  hrishi: 0.989\n",
            "  13  hrishi: 0.996\n",
            "  14  hrishi: 0.996\n",
            "  15  hrishi: 0.994\n",
            "  16  hrishi: 0.994\n",
            "  17  hrishi: 0.996\n",
            "  18  hrishi: 0.997\n",
            "  19  hrishi: 0.998\n",
            "  20  shashank: 0.994\n",
            "  21  shashank: 0.997\n",
            "  22  shashank: 0.990\n",
            "  23  shashank: 0.995\n",
            "  24  shashank: 0.987\n",
            "  25  shashank: 0.991\n",
            "  26  shashank: 0.987\n",
            "  27  shashank: 0.995\n",
            "  28  shashank: 0.993\n",
            "  29  shashank: 0.991\n",
            "  30  shashank: 0.989\n",
            "  31  shashank: 0.997\n",
            "  32  shashank: 0.989\n",
            "  33  shashank: 0.987\n",
            "  34  shashank: 0.994\n",
            "  35  shashank: 0.993\n",
            "  36  shashank: 1.000\n",
            "  37  shashank: 0.986\n",
            "  38  shashank: 0.996\n",
            "  39  shashank: 0.994\n",
            "Accuracy: 1.000\n"
          ],
          "name": "stdout"
        }
      ]
    },
    {
      "cell_type": "code",
      "metadata": {
        "id": "Z9xQRGbM_11F",
        "colab_type": "code",
        "colab": {
          "base_uri": "https://localhost:8080/",
          "height": 1000
        },
        "outputId": "a711ca75-5440-41cd-bb16-6d8a0a644b2a"
      },
      "source": [
        "!python /content/facenet/src/classifier.py CLASSIFY \"/content/drive/My Drive/ColabFolders/test_color\" \"/content/drive/My Drive/ColabFolders/20180402-114759/20180402-114759.pb\" \"/content/my_classifier.pkl\" --batch_size 1000"
      ],
      "execution_count": 17,
      "outputs": [
        {
          "output_type": "stream",
          "text": [
            "/content/facenet/src/classifier.py:59: SyntaxWarning: assertion is always true, perhaps remove parentheses?\n",
            "  assert(len(cls.image_paths)>0, 'There must be at least one image for each class in the dataset')\n",
            "WARNING: Logging before flag parsing goes to stderr.\n",
            "W0904 16:35:56.020191 140102458840960 deprecation_wrapper.py:119] From /content/facenet/src/classifier.py:43: The name tf.Session is deprecated. Please use tf.compat.v1.Session instead.\n",
            "\n",
            "2019-09-04 16:35:56.021455: I tensorflow/stream_executor/platform/default/dso_loader.cc:42] Successfully opened dynamic library libcuda.so.1\n",
            "2019-09-04 16:35:56.039168: I tensorflow/stream_executor/cuda/cuda_gpu_executor.cc:1005] successful NUMA node read from SysFS had negative value (-1), but there must be at least one NUMA node, so returning NUMA node zero\n",
            "2019-09-04 16:35:56.039940: I tensorflow/core/common_runtime/gpu/gpu_device.cc:1640] Found device 0 with properties: \n",
            "name: Tesla K80 major: 3 minor: 7 memoryClockRate(GHz): 0.8235\n",
            "pciBusID: 0000:00:04.0\n",
            "2019-09-04 16:35:56.040205: I tensorflow/stream_executor/platform/default/dso_loader.cc:42] Successfully opened dynamic library libcudart.so.10.0\n",
            "2019-09-04 16:35:56.041615: I tensorflow/stream_executor/platform/default/dso_loader.cc:42] Successfully opened dynamic library libcublas.so.10.0\n",
            "2019-09-04 16:35:56.043118: I tensorflow/stream_executor/platform/default/dso_loader.cc:42] Successfully opened dynamic library libcufft.so.10.0\n",
            "2019-09-04 16:35:56.043525: I tensorflow/stream_executor/platform/default/dso_loader.cc:42] Successfully opened dynamic library libcurand.so.10.0\n",
            "2019-09-04 16:35:56.045457: I tensorflow/stream_executor/platform/default/dso_loader.cc:42] Successfully opened dynamic library libcusolver.so.10.0\n",
            "2019-09-04 16:35:56.046668: I tensorflow/stream_executor/platform/default/dso_loader.cc:42] Successfully opened dynamic library libcusparse.so.10.0\n",
            "2019-09-04 16:35:56.050507: I tensorflow/stream_executor/platform/default/dso_loader.cc:42] Successfully opened dynamic library libcudnn.so.7\n",
            "2019-09-04 16:35:56.050642: I tensorflow/stream_executor/cuda/cuda_gpu_executor.cc:1005] successful NUMA node read from SysFS had negative value (-1), but there must be at least one NUMA node, so returning NUMA node zero\n",
            "2019-09-04 16:35:56.051429: I tensorflow/stream_executor/cuda/cuda_gpu_executor.cc:1005] successful NUMA node read from SysFS had negative value (-1), but there must be at least one NUMA node, so returning NUMA node zero\n",
            "2019-09-04 16:35:56.052174: I tensorflow/core/common_runtime/gpu/gpu_device.cc:1763] Adding visible gpu devices: 0\n",
            "2019-09-04 16:35:56.057765: I tensorflow/core/platform/profile_utils/cpu_utils.cc:94] CPU Frequency: 2300000000 Hz\n",
            "2019-09-04 16:35:56.058003: I tensorflow/compiler/xla/service/service.cc:168] XLA service 0x2cb8a00 executing computations on platform Host. Devices:\n",
            "2019-09-04 16:35:56.058040: I tensorflow/compiler/xla/service/service.cc:175]   StreamExecutor device (0): <undefined>, <undefined>\n",
            "2019-09-04 16:35:56.118357: I tensorflow/stream_executor/cuda/cuda_gpu_executor.cc:1005] successful NUMA node read from SysFS had negative value (-1), but there must be at least one NUMA node, so returning NUMA node zero\n",
            "2019-09-04 16:35:56.119184: I tensorflow/compiler/xla/service/service.cc:168] XLA service 0x2cb8bc0 executing computations on platform CUDA. Devices:\n",
            "2019-09-04 16:35:56.119217: I tensorflow/compiler/xla/service/service.cc:175]   StreamExecutor device (0): Tesla K80, Compute Capability 3.7\n",
            "2019-09-04 16:35:56.119391: I tensorflow/stream_executor/cuda/cuda_gpu_executor.cc:1005] successful NUMA node read from SysFS had negative value (-1), but there must be at least one NUMA node, so returning NUMA node zero\n",
            "2019-09-04 16:35:56.120187: I tensorflow/core/common_runtime/gpu/gpu_device.cc:1640] Found device 0 with properties: \n",
            "name: Tesla K80 major: 3 minor: 7 memoryClockRate(GHz): 0.8235\n",
            "pciBusID: 0000:00:04.0\n",
            "2019-09-04 16:35:56.120247: I tensorflow/stream_executor/platform/default/dso_loader.cc:42] Successfully opened dynamic library libcudart.so.10.0\n",
            "2019-09-04 16:35:56.120273: I tensorflow/stream_executor/platform/default/dso_loader.cc:42] Successfully opened dynamic library libcublas.so.10.0\n",
            "2019-09-04 16:35:56.120295: I tensorflow/stream_executor/platform/default/dso_loader.cc:42] Successfully opened dynamic library libcufft.so.10.0\n",
            "2019-09-04 16:35:56.120315: I tensorflow/stream_executor/platform/default/dso_loader.cc:42] Successfully opened dynamic library libcurand.so.10.0\n",
            "2019-09-04 16:35:56.120369: I tensorflow/stream_executor/platform/default/dso_loader.cc:42] Successfully opened dynamic library libcusolver.so.10.0\n",
            "2019-09-04 16:35:56.120389: I tensorflow/stream_executor/platform/default/dso_loader.cc:42] Successfully opened dynamic library libcusparse.so.10.0\n",
            "2019-09-04 16:35:56.120411: I tensorflow/stream_executor/platform/default/dso_loader.cc:42] Successfully opened dynamic library libcudnn.so.7\n",
            "2019-09-04 16:35:56.120529: I tensorflow/stream_executor/cuda/cuda_gpu_executor.cc:1005] successful NUMA node read from SysFS had negative value (-1), but there must be at least one NUMA node, so returning NUMA node zero\n",
            "2019-09-04 16:35:56.121249: I tensorflow/stream_executor/cuda/cuda_gpu_executor.cc:1005] successful NUMA node read from SysFS had negative value (-1), but there must be at least one NUMA node, so returning NUMA node zero\n",
            "2019-09-04 16:35:56.122005: I tensorflow/core/common_runtime/gpu/gpu_device.cc:1763] Adding visible gpu devices: 0\n",
            "2019-09-04 16:35:56.122077: I tensorflow/stream_executor/platform/default/dso_loader.cc:42] Successfully opened dynamic library libcudart.so.10.0\n",
            "2019-09-04 16:35:56.123576: I tensorflow/core/common_runtime/gpu/gpu_device.cc:1181] Device interconnect StreamExecutor with strength 1 edge matrix:\n",
            "2019-09-04 16:35:56.123608: I tensorflow/core/common_runtime/gpu/gpu_device.cc:1187]      0 \n",
            "2019-09-04 16:35:56.123621: I tensorflow/core/common_runtime/gpu/gpu_device.cc:1200] 0:   N \n",
            "2019-09-04 16:35:56.123755: I tensorflow/stream_executor/cuda/cuda_gpu_executor.cc:1005] successful NUMA node read from SysFS had negative value (-1), but there must be at least one NUMA node, so returning NUMA node zero\n",
            "2019-09-04 16:35:56.124553: I tensorflow/stream_executor/cuda/cuda_gpu_executor.cc:1005] successful NUMA node read from SysFS had negative value (-1), but there must be at least one NUMA node, so returning NUMA node zero\n",
            "2019-09-04 16:35:56.125227: W tensorflow/core/common_runtime/gpu/gpu_bfc_allocator.cc:40] Overriding allow_growth setting because the TF_FORCE_GPU_ALLOW_GROWTH environment variable is set. Original config value was 0.\n",
            "2019-09-04 16:35:56.125277: I tensorflow/core/common_runtime/gpu/gpu_device.cc:1326] Created TensorFlow device (/job:localhost/replica:0/task:0/device:GPU:0 with 10805 MB memory) -> physical GPU (device: 0, name: Tesla K80, pci bus id: 0000:00:04.0, compute capability: 3.7)\n",
            "Number of classes: 1\n",
            "Number of images: 99\n",
            "Loading feature extraction model\n",
            "Model filename: /content/drive/My Drive/ColabFolders/20180402-114759/20180402-114759.pb\n",
            "W0904 16:35:56.128348 140102458840960 deprecation.py:323] From /content/facenet/src/facenet.py:370: FastGFile.__init__ (from tensorflow.python.platform.gfile) is deprecated and will be removed in a future version.\n",
            "Instructions for updating:\n",
            "Use tf.gfile.GFile.\n",
            "W0904 16:35:56.128624 140102458840960 deprecation_wrapper.py:119] From /content/facenet/src/facenet.py:371: The name tf.GraphDef is deprecated. Please use tf.compat.v1.GraphDef instead.\n",
            "\n",
            "W0904 16:35:57.618947 140102458840960 deprecation_wrapper.py:119] From /content/facenet/src/classifier.py:72: The name tf.get_default_graph is deprecated. Please use tf.compat.v1.get_default_graph instead.\n",
            "\n",
            "Calculating features for images\n",
            "2019-09-04 16:36:50.256225: I tensorflow/stream_executor/platform/default/dso_loader.cc:42] Successfully opened dynamic library libcublas.so.10.0\n",
            "2019-09-04 16:36:50.615472: I tensorflow/stream_executor/platform/default/dso_loader.cc:42] Successfully opened dynamic library libcudnn.so.7\n",
            "Testing classifier\n",
            "Loaded classifier model from file \"/content/my_classifier.pkl\"\n",
            "   0  hrishi: 0.944\n",
            "   1  hrishi: 0.851\n",
            "   2  hrishi: 0.933\n",
            "   3  hrishi: 0.932\n",
            "   4  hrishi: 0.931\n",
            "   5  hrishi: 0.930\n",
            "   6  hrishi: 0.860\n",
            "   7  hrishi: 0.908\n",
            "   8  hrishi: 0.898\n",
            "   9  hrishi: 0.949\n",
            "  10  hrishi: 0.891\n",
            "  11  hrishi: 0.916\n",
            "  12  hrishi: 0.877\n",
            "  13  hrishi: 0.924\n",
            "  14  hrishi: 0.917\n",
            "  15  hrishi: 0.892\n",
            "  16  hrishi: 0.846\n",
            "  17  hrishi: 0.935\n",
            "  18  hrishi: 0.837\n",
            "  19  hrishi: 0.920\n",
            "  20  hrishi: 0.875\n",
            "  21  hrishi: 0.900\n",
            "  22  hrishi: 0.876\n",
            "  23  hrishi: 0.696\n",
            "  24  hrishi: 0.855\n",
            "  25  hrishi: 0.912\n",
            "  26  hrishi: 0.952\n",
            "  27  hrishi: 0.860\n",
            "  28  hrishi: 0.887\n",
            "  29  hrishi: 0.771\n",
            "  30  hrishi: 0.736\n",
            "  31  hrishi: 0.656\n",
            "  32  hrishi: 0.868\n",
            "  33  hrishi: 0.794\n",
            "  34  hrishi: 0.924\n",
            "  35  hrishi: 0.599\n",
            "  36  hrishi: 0.751\n",
            "  37  hrishi: 0.817\n",
            "  38  hrishi: 0.778\n",
            "  39  hrishi: 0.796\n",
            "  40  hrishi: 0.841\n",
            "  41  hrishi: 0.854\n",
            "  42  hrishi: 0.857\n",
            "  43  hrishi: 0.941\n",
            "  44  hrishi: 0.841\n",
            "  45  hrishi: 0.894\n",
            "  46  hrishi: 0.868\n",
            "  47  hrishi: 0.845\n",
            "  48  hrishi: 0.797\n",
            "  49  hrishi: 0.838\n",
            "  50  hrishi: 0.695\n",
            "  51  hrishi: 0.842\n",
            "  52  hrishi: 0.796\n",
            "  53  hrishi: 0.861\n",
            "  54  hrishi: 0.897\n",
            "  55  hrishi: 0.825\n",
            "  56  hrishi: 0.895\n",
            "  57  hrishi: 0.855\n",
            "  58  hrishi: 0.933\n",
            "  59  hrishi: 0.915\n",
            "  60  hrishi: 0.949\n",
            "  61  hrishi: 0.883\n",
            "  62  hrishi: 0.895\n",
            "  63  hrishi: 0.917\n",
            "  64  hrishi: 0.897\n",
            "  65  hrishi: 0.867\n",
            "  66  hrishi: 0.851\n",
            "  67  hrishi: 0.903\n",
            "  68  hrishi: 0.881\n",
            "  69  hrishi: 0.914\n",
            "  70  hrishi: 0.938\n",
            "  71  hrishi: 0.889\n",
            "  72  hrishi: 0.908\n",
            "  73  hrishi: 0.879\n",
            "  74  hrishi: 0.929\n",
            "  75  hrishi: 0.898\n",
            "  76  hrishi: 0.924\n",
            "  77  hrishi: 0.904\n",
            "  78  hrishi: 0.839\n",
            "  79  hrishi: 0.891\n",
            "  80  hrishi: 0.816\n",
            "  81  hrishi: 0.806\n",
            "  82  hrishi: 0.939\n",
            "  83  hrishi: 0.926\n",
            "  84  hrishi: 0.786\n",
            "  85  hrishi: 0.877\n",
            "  86  hrishi: 0.816\n",
            "  87  hrishi: 0.908\n",
            "  88  hrishi: 0.894\n",
            "  89  hrishi: 0.919\n",
            "  90  hrishi: 0.816\n",
            "  91  hrishi: 0.903\n",
            "  92  hrishi: 0.901\n",
            "  93  hrishi: 0.913\n",
            "  94  hrishi: 0.832\n",
            "  95  hrishi: 0.924\n",
            "  96  hrishi: 0.920\n",
            "  97  hrishi: 0.897\n",
            "  98  hrishi: 0.944\n",
            "Accuracy: 1.000\n"
          ],
          "name": "stdout"
        }
      ]
    },
    {
      "cell_type": "code",
      "metadata": {
        "id": "8DmPe6TzBjQw",
        "colab_type": "code",
        "colab": {}
      },
      "source": [
        ""
      ],
      "execution_count": 0,
      "outputs": []
    }
  ]
}